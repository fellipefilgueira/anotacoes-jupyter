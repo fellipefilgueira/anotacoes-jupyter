{
 "cells": [
  {
   "cell_type": "code",
   "execution_count": null,
   "id": "76774010",
   "metadata": {},
   "outputs": [],
   "source": [
    "import pandas as pd\n",
    "\n",
    "file_path = ''\n",
    "\n",
    "df = pd.read_csv( file_path )\n",
    "\n",
    "# ver 5 primeiras linhas\n",
    "df.head()\n",
    "\n",
    "# ver final da tabela \n",
    "df.tail()\n",
    "\n",
    "# ver colunas \n",
    "df.columns()\n",
    "\n",
    "# tamanho do dataframe, (nº linhas, nº colunas \n",
    "df.shape()\n",
    "\n",
    "# descritiva do dataframe\n",
    "df.describe()\n",
    "\n",
    "# tabela de frequencia univariada\n",
    "pd.value_counts( df['coluna'] )\n",
    "\n",
    "# tabela de frequencia relativa \n",
    "pd.value_counts( df['coluna'] ) / df.['coluna'].count()\n",
    "\n",
    "# tabela cruzada ou bivariada \n",
    "pd.crosstab( df['coluna_linhas'], df['coluna_colunas'] )\n",
    "\n",
    "# soma os valores das colunas \n",
    "pd.crosstab( df['coluna_linhas'], df['coluna_colunas'] ).sum(axis=1)\n",
    "\n",
    "# soma os valores das linhas\n",
    "pd.crosstab( df['coluna_linhas'], df['coluna_colunas'] ).sum(axis=0)\n",
    "\n",
    "# agrupa os valores identicos da coluna 1 e faz a média da coluna 2  \n",
    "df.groupby( ['coluna 1'] )['coluna 2'].mean()\n",
    "\n",
    "# agrupa a coluna 1 e calcula a média e a soma da coluna 2 \n",
    "df.groupby( ['coluna 1'] ).agg( {'coluna 2': ['sum', 'mean']} )\n",
    "\n",
    "# retorna os valores unicos que existem naquela coluna\n",
    "df['coluna'].unique()\n",
    "\n"
   ]
  }
 ],
 "metadata": {
  "kernelspec": {
   "display_name": "Python 3 (ipykernel)",
   "language": "python",
   "name": "python3"
  },
  "language_info": {
   "codemirror_mode": {
    "name": "ipython",
    "version": 3
   },
   "file_extension": ".py",
   "mimetype": "text/x-python",
   "name": "python",
   "nbconvert_exporter": "python",
   "pygments_lexer": "ipython3",
   "version": "3.9.7"
  }
 },
 "nbformat": 4,
 "nbformat_minor": 5
}
