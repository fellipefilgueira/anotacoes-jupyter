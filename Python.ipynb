{
 "cells": [
  {
   "cell_type": "markdown",
   "id": "3eb52233",
   "metadata": {},
   "source": [
    "## Classe e Função self(consulta)"
   ]
  },
  {
   "cell_type": "code",
   "execution_count": 21,
   "id": "4784734a",
   "metadata": {},
   "outputs": [
    {
     "name": "stdout",
     "output_type": "stream",
     "text": [
      "Help on built-in function print in module builtins:\n",
      "\n",
      "print(...)\n",
      "    print(value, ..., sep=' ', end='\\n', file=sys.stdout, flush=False)\n",
      "    \n",
      "    Prints the values to a stream, or to sys.stdout by default.\n",
      "    Optional keyword arguments:\n",
      "    file:  a file-like object (stream); defaults to the current sys.stdout.\n",
      "    sep:   string inserted between values, default a space.\n",
      "    end:   string appended after the last value, default a newline.\n",
      "    flush: whether to forcibly flush the stream.\n",
      "\n"
     ]
    }
   ],
   "source": [
    "help( print ) # retorna uma descrição detalhada das funcionalidades da função pesquisada\n",
    "\n",
    "caso_2 = '''\n",
    "import pandas as pd\n",
    "\n",
    "help( pd.DataFrame.to_excel )\n",
    "\n",
    "Resultado: \n",
    "    to_excel(self, excel_writer, sheet_name: 'str' = 'Sheet1', na_rep: 'str' = '', float_format: 'str | None' = None,\n",
    "    columns=None, header=True, index=True, index_label=None, startrow=0, startcol=0, engine=None, merge_cells=True,\n",
    "    encoding=None, inf_rep='inf', verbose=True, freeze_panes=None, storage_options: 'StorageOptions' = None)\n",
    "    \n",
    "    abaixo do que é retornado, vai existir uma descrição detalhada de cada uma dessas subfunções\n",
    "'''"
   ]
  },
  {
   "cell_type": "code",
   "execution_count": 1,
   "id": "9eec2aab",
   "metadata": {},
   "outputs": [
    {
     "name": "stdout",
     "output_type": "stream",
     "text": [
      "deu bom\n"
     ]
    }
   ],
   "source": [
    "class test: \n",
    "    def a(self):\n",
    "        self.var = 'deu bom'\n",
    "\n",
    "    def b(self):\n",
    "        print(self.var)\n",
    "    \n",
    "t = test()    \n",
    "t.a()\n",
    "t.b()"
   ]
  },
  {
   "cell_type": "code",
   "execution_count": 38,
   "id": "7eb156b9",
   "metadata": {},
   "outputs": [
    {
     "name": "stdout",
     "output_type": "stream",
     "text": [
      "fellipe lucas\n",
      "fellipe lucas\n"
     ]
    }
   ],
   "source": [
    "nome = 'FelliPE LUCas'\n",
    "\n",
    "def get_lower( x ):\n",
    "    return x.lower()\n",
    "\n",
    "get_lower_lambda = lambda x: x.lower()\n",
    "\n",
    "print( get_lower(nome) )\n",
    "print( get_lower_lambda(nome) )"
   ]
  },
  {
   "cell_type": "code",
   "execution_count": null,
   "id": "0833fcde",
   "metadata": {},
   "outputs": [],
   "source": [
    "# Estudo sobre dicionário \n",
    "\n"
   ]
  },
  {
   "cell_type": "code",
   "execution_count": 49,
   "id": "efdbd41b",
   "metadata": {
    "scrolled": true
   },
   "outputs": [
    {
     "name": "stdout",
     "output_type": "stream",
     "text": [
      "count: 5\n",
      "startswith: True\n",
      "endswih: True\n",
      "find: 13\n",
      "format: O meu email é FELLIPELLUCAS@GMAIL.COM!\n",
      "replace: FELLIPELLUCAS@HOTMAIL.COM\n",
      "split: ['FELLIPELLUCAS@GMAIL.COM']\n",
      "split: ['FELLIPELLUCAS', 'GMAIL.COM']\n"
     ]
    }
   ],
   "source": [
    "texto = 'FELLIPELLUCAS@GMAIL.COM'\n",
    "\n",
    "print('count: ' + str(texto.count('L')))\n",
    "print('startswith: ' + str(texto.startswith('FELLIPELLUCAS')))\n",
    "print('endswih: ' + str(texto.endswith('@GMAIL.COM')))\n",
    "print('find: ' + str(texto.find('@')))\n",
    "print('format: O meu email é {}!'.format(texto))\n",
    "print('replace: ' + texto.replace(\"GMAIL\", \"HOTMAIL\"))\n",
    "print('split: ' + str(texto.split()))\n",
    "print('split: ' + str(texto.split('@')))"
   ]
  },
  {
   "cell_type": "code",
   "execution_count": 35,
   "id": "c9d95af4",
   "metadata": {},
   "outputs": [
    {
     "name": "stdout",
     "output_type": "stream",
     "text": [
      "isalnum: True\n",
      "isalpha: True\n",
      "isnumeric: True\n"
     ]
    }
   ],
   "source": [
    "texto1 = 'Fellipe123'\n",
    "texto2 = 'Fellipe'\n",
    "texto3 = '123'\n",
    "\n",
    "print('isalnum: ' + str(texto1.isalnum())) # se o texto fosse 'FEL~LIPE' ou então 'FELLIPE#' o resultado seria False\n",
    "print('isalpha: ' + str(texto2.isalpha())) # nesse caso se o texto fosse 'Fellipe123' o resultado seria False, porque o texto teria numeros. \n",
    "print('isnumeric: ' + str(texto3.isnumeric())) # se o texto fosse 'Fellipe', o resultado seria False"
   ]
  },
  {
   "cell_type": "code",
   "execution_count": 37,
   "id": "c536e1e1",
   "metadata": {},
   "outputs": [
    {
     "name": "stdout",
     "output_type": "stream",
     "text": [
      "['', 'Prezados,', '', 'Venho aqui linformar que o meu novo email é fellipellucas@gmail.com', '', 'Att.:', 'Fellipe']\n"
     ]
    }
   ],
   "source": [
    "texto4 = '''\n",
    "Prezados,\n",
    "\n",
    "Venho aqui linformar que o meu novo email é fellipellucas@gmail.com\n",
    "\n",
    "Att.:\n",
    "Fellipe\n",
    "'''\n",
    "\n",
    "print(texto4.splitlines())"
   ]
  },
  {
   "cell_type": "code",
   "execution_count": 51,
   "id": "140c28ee",
   "metadata": {
    "scrolled": true
   },
   "outputs": [
    {
     "name": "stdout",
     "output_type": "stream",
     "text": [
      "capitalize: Fellipe lucas filgueira de oliveira\n",
      "title: Fellipe Lucas Filgueira De Oliveira\n",
      "upper: FELLIPE LUCAS FILGUEIRA DE OLIVEIRA\n",
      "casefold: fellipe lucas filgueira de oliveira\n"
     ]
    }
   ],
   "source": [
    "texto5 = 'FELLIPE LUCAS filgueira de oliveira'\n",
    "\n",
    "print('capitalize: ' + texto5.capitalize())\n",
    "print('title: ' + texto5.title())\n",
    "print('upper: ' + texto5.upper())\n",
    "print('casefold: ' + texto5.casefold())"
   ]
  },
  {
   "cell_type": "code",
   "execution_count": 30,
   "id": "0b2e82c0",
   "metadata": {
    "scrolled": true
   },
   "outputs": [
    {
     "data": {
      "text/plain": [
       "0.05"
      ]
     },
     "execution_count": 30,
     "metadata": {},
     "output_type": "execute_result"
    }
   ],
   "source": [
    "round( 0.0522225412, 2 )"
   ]
  },
  {
   "cell_type": "code",
   "execution_count": 32,
   "id": "f8ff14a5",
   "metadata": {},
   "outputs": [
    {
     "data": {
      "text/plain": [
       "[2, 4, 6]"
      ]
     },
     "execution_count": 32,
     "metadata": {},
     "output_type": "execute_result"
    }
   ],
   "source": [
    "x = [ 1, 2, 3, 4, 5, 6, 7, 8, 9 ]\n",
    "x[ 1 : 7 : 2 ]\n",
    "\n",
    "# x[ start : stop : step ]"
   ]
  },
  {
   "cell_type": "code",
   "execution_count": 11,
   "id": "c8eccbfa",
   "metadata": {
    "scrolled": true
   },
   "outputs": [
    {
     "data": {
      "text/plain": [
       "['Fellipe', 'Lucas', 'Filgueira', 'De', 'Oliveira']"
      ]
     },
     "execution_count": 11,
     "metadata": {},
     "output_type": "execute_result"
    }
   ],
   "source": [
    "x = ['fellipe', 'lucas', 'filgueira', 'de', 'oliveira']\n",
    "\n",
    "list(map( lambda x: x.title() , x ))"
   ]
  },
  {
   "cell_type": "code",
   "execution_count": null,
   "id": "f035e8eb",
   "metadata": {},
   "outputs": [
    {
     "name": "stdout",
     "output_type": "stream",
     "text": [
      "\n",
      "Welcome to Python 3.9's help utility!\n",
      "\n",
      "If this is your first time using Python, you should definitely check out\n",
      "the tutorial on the Internet at https://docs.python.org/3.9/tutorial/.\n",
      "\n",
      "Enter the name of any module, keyword, or topic to get help on writing\n",
      "Python programs and using Python modules.  To quit this help utility and\n",
      "return to the interpreter, just type \"quit\".\n",
      "\n",
      "To get a list of available modules, keywords, symbols, or topics, type\n",
      "\"modules\", \"keywords\", \"symbols\", or \"topics\".  Each module also comes\n",
      "with a one-line summary of what it does; to list the modules whose name\n",
      "or summary contain a given string such as \"spam\", type \"modules spam\".\n",
      "\n",
      "help> .\n",
      "Attribute references\n",
      "********************\n",
      "\n",
      "An attribute reference is a primary followed by a period and a name:\n",
      "\n",
      "   attributeref ::= primary \".\" identifier\n",
      "\n",
      "The primary must evaluate to an object of a type that supports\n",
      "attribute references, which most objects do.  This object is then\n",
      "asked to produce the attribute whose name is the identifier.  This\n",
      "production can be customized by overriding the \"__getattr__()\" method.\n",
      "If this attribute is not available, the exception \"AttributeError\" is\n",
      "raised.  Otherwise, the type and value of the object produced is\n",
      "determined by the object.  Multiple evaluations of the same attribute\n",
      "reference may yield different objects.\n",
      "\n",
      "Related help topics: getattr, hasattr, setattr, ATTRIBUTEMETHODS, FLOAT,\n",
      "MODULES, OBJECTS\n",
      "\n",
      "help> *\n",
      "Operator precedence\n",
      "*******************\n",
      "\n",
      "The following table summarizes the operator precedence in Python, from\n",
      "highest precedence (most binding) to lowest precedence (least\n",
      "binding).  Operators in the same box have the same precedence.  Unless\n",
      "the syntax is explicitly given, operators are binary.  Operators in\n",
      "the same box group left to right (except for exponentiation, which\n",
      "groups from right to left).\n",
      "\n",
      "Note that comparisons, membership tests, and identity tests, all have\n",
      "the same precedence and have a left-to-right chaining feature as\n",
      "described in the Comparisons section.\n",
      "\n",
      "+-------------------------------------------------+---------------------------------------+\n",
      "| Operator                                        | Description                           |\n",
      "|=================================================|=======================================|\n",
      "| \"(expressions...)\",  \"[expressions...]\", \"{key: | Binding or parenthesized expression,  |\n",
      "| value...}\", \"{expressions...}\"                  | list display, dictionary display, set |\n",
      "|                                                 | display                               |\n",
      "+-------------------------------------------------+---------------------------------------+\n",
      "| \"x[index]\", \"x[index:index]\",                   | Subscription, slicing, call,          |\n",
      "| \"x(arguments...)\", \"x.attribute\"                | attribute reference                   |\n",
      "+-------------------------------------------------+---------------------------------------+\n",
      "| \"await\" \"x\"                                     | Await expression                      |\n",
      "+-------------------------------------------------+---------------------------------------+\n",
      "| \"**\"                                            | Exponentiation [5]                    |\n",
      "+-------------------------------------------------+---------------------------------------+\n",
      "| \"+x\", \"-x\", \"~x\"                                | Positive, negative, bitwise NOT       |\n",
      "+-------------------------------------------------+---------------------------------------+\n",
      "| \"*\", \"@\", \"/\", \"//\", \"%\"                        | Multiplication, matrix                |\n",
      "|                                                 | multiplication, division, floor       |\n",
      "|                                                 | division, remainder [6]               |\n",
      "+-------------------------------------------------+---------------------------------------+\n",
      "| \"+\", \"-\"                                        | Addition and subtraction              |\n",
      "+-------------------------------------------------+---------------------------------------+\n",
      "| \"<<\", \">>\"                                      | Shifts                                |\n",
      "+-------------------------------------------------+---------------------------------------+\n",
      "| \"&\"                                             | Bitwise AND                           |\n",
      "+-------------------------------------------------+---------------------------------------+\n",
      "| \"^\"                                             | Bitwise XOR                           |\n",
      "+-------------------------------------------------+---------------------------------------+\n",
      "| \"|\"                                             | Bitwise OR                            |\n",
      "+-------------------------------------------------+---------------------------------------+\n",
      "| \"in\", \"not in\", \"is\", \"is not\", \"<\", \"<=\", \">\", | Comparisons, including membership     |\n",
      "| \">=\", \"!=\", \"==\"                                | tests and identity tests              |\n",
      "+-------------------------------------------------+---------------------------------------+\n",
      "| \"not\" \"x\"                                       | Boolean NOT                           |\n",
      "+-------------------------------------------------+---------------------------------------+\n",
      "| \"and\"                                           | Boolean AND                           |\n",
      "+-------------------------------------------------+---------------------------------------+\n",
      "| \"or\"                                            | Boolean OR                            |\n",
      "+-------------------------------------------------+---------------------------------------+\n",
      "| \"if\" – \"else\"                                   | Conditional expression                |\n",
      "+-------------------------------------------------+---------------------------------------+\n",
      "| \"lambda\"                                        | Lambda expression                     |\n",
      "+-------------------------------------------------+---------------------------------------+\n",
      "| \":=\"                                            | Assignment expression                 |\n",
      "+-------------------------------------------------+---------------------------------------+\n",
      "\n",
      "-[ Footnotes ]-\n",
      "\n",
      "[1] While \"abs(x%y) < abs(y)\" is true mathematically, for floats it\n",
      "    may not be true numerically due to roundoff.  For example, and\n",
      "    assuming a platform on which a Python float is an IEEE 754 double-\n",
      "    precision number, in order that \"-1e-100 % 1e100\" have the same\n",
      "    sign as \"1e100\", the computed result is \"-1e-100 + 1e100\", which\n",
      "    is numerically exactly equal to \"1e100\".  The function\n",
      "    \"math.fmod()\" returns a result whose sign matches the sign of the\n",
      "    first argument instead, and so returns \"-1e-100\" in this case.\n",
      "    Which approach is more appropriate depends on the application.\n",
      "\n",
      "[2] If x is very close to an exact integer multiple of y, it’s\n",
      "    possible for \"x//y\" to be one larger than \"(x-x%y)//y\" due to\n",
      "    rounding.  In such cases, Python returns the latter result, in\n",
      "    order to preserve that \"divmod(x,y)[0] * y + x % y\" be very close\n",
      "    to \"x\".\n",
      "\n",
      "[3] The Unicode standard distinguishes between *code points* (e.g.\n",
      "    U+0041) and *abstract characters* (e.g. “LATIN CAPITAL LETTER A”).\n",
      "    While most abstract characters in Unicode are only represented\n",
      "    using one code point, there is a number of abstract characters\n",
      "    that can in addition be represented using a sequence of more than\n",
      "    one code point.  For example, the abstract character “LATIN\n",
      "    CAPITAL LETTER C WITH CEDILLA” can be represented as a single\n",
      "    *precomposed character* at code position U+00C7, or as a sequence\n",
      "    of a *base character* at code position U+0043 (LATIN CAPITAL\n",
      "    LETTER C), followed by a *combining character* at code position\n",
      "    U+0327 (COMBINING CEDILLA).\n",
      "\n",
      "    The comparison operators on strings compare at the level of\n",
      "    Unicode code points. This may be counter-intuitive to humans.  For\n",
      "    example, \"\"\\u00C7\" == \"\\u0043\\u0327\"\" is \"False\", even though both\n",
      "    strings represent the same abstract character “LATIN CAPITAL\n",
      "    LETTER C WITH CEDILLA”.\n",
      "\n",
      "    To compare strings at the level of abstract characters (that is,\n",
      "    in a way intuitive to humans), use \"unicodedata.normalize()\".\n",
      "\n",
      "[4] Due to automatic garbage-collection, free lists, and the dynamic\n",
      "    nature of descriptors, you may notice seemingly unusual behaviour\n",
      "    in certain uses of the \"is\" operator, like those involving\n",
      "    comparisons between instance methods, or constants.  Check their\n",
      "    documentation for more info.\n",
      "\n",
      "[5] The power operator \"**\" binds less tightly than an arithmetic or\n",
      "    bitwise unary operator on its right, that is, \"2**-1\" is \"0.5\".\n",
      "\n",
      "[6] The \"%\" operator is also used for string formatting; the same\n",
      "    precedence applies.\n",
      "\n",
      "Related help topics: lambda, or, and, not, in, is, BOOLEAN, COMPARISON,\n",
      "BITWISE, SHIFTING, BINARY, FORMATTING, POWER, UNARY, ATTRIBUTES,\n",
      "SUBSCRIPTS, SLICINGS, CALLS, TUPLES, LISTS, DICTIONARIES\n",
      "\n"
     ]
    }
   ],
   "source": [
    "help()"
   ]
  }
 ],
 "metadata": {
  "kernelspec": {
   "display_name": "Python 3 (ipykernel)",
   "language": "python",
   "name": "python3"
  },
  "language_info": {
   "codemirror_mode": {
    "name": "ipython",
    "version": 3
   },
   "file_extension": ".py",
   "mimetype": "text/x-python",
   "name": "python",
   "nbconvert_exporter": "python",
   "pygments_lexer": "ipython3",
   "version": "3.9.7"
  },
  "vscode": {
   "interpreter": {
    "hash": "4cdbc25c03071757fc69cfb92a55541a4c5526414e5b29f11951739707c2c4fe"
   }
  }
 },
 "nbformat": 4,
 "nbformat_minor": 5
}
