{
 "cells": [
  {
   "cell_type": "markdown",
   "id": "3eb52233",
   "metadata": {},
   "source": [
    "## Classe e Função self(consulta)"
   ]
  },
  {
   "cell_type": "code",
   "execution_count": 21,
   "id": "4784734a",
   "metadata": {},
   "outputs": [
    {
     "name": "stdout",
     "output_type": "stream",
     "text": [
      "Help on built-in function print in module builtins:\n",
      "\n",
      "print(...)\n",
      "    print(value, ..., sep=' ', end='\\n', file=sys.stdout, flush=False)\n",
      "    \n",
      "    Prints the values to a stream, or to sys.stdout by default.\n",
      "    Optional keyword arguments:\n",
      "    file:  a file-like object (stream); defaults to the current sys.stdout.\n",
      "    sep:   string inserted between values, default a space.\n",
      "    end:   string appended after the last value, default a newline.\n",
      "    flush: whether to forcibly flush the stream.\n",
      "\n"
     ]
    }
   ],
   "source": [
    "help( print ) # retorna uma descrição detalhada das funcionalidades da função pesquisada\n",
    "\n",
    "caso_2 = '''\n",
    "import pandas as pd\n",
    "\n",
    "help( pd.DataFrame.to_excel )\n",
    "\n",
    "Resultado: \n",
    "    to_excel(self, excel_writer, sheet_name: 'str' = 'Sheet1', na_rep: 'str' = '', float_format: 'str | None' = None,\n",
    "    columns=None, header=True, index=True, index_label=None, startrow=0, startcol=0, engine=None, merge_cells=True,\n",
    "    encoding=None, inf_rep='inf', verbose=True, freeze_panes=None, storage_options: 'StorageOptions' = None)\n",
    "    \n",
    "    abaixo do que é retornado, vai existir uma descrição detalhada de cada uma dessas subfunções\n",
    "'''"
   ]
  },
  {
   "cell_type": "code",
   "execution_count": 1,
   "id": "9eec2aab",
   "metadata": {},
   "outputs": [
    {
     "name": "stdout",
     "output_type": "stream",
     "text": [
      "deu bom\n"
     ]
    }
   ],
   "source": [
    "class test: \n",
    "    def a(self):\n",
    "        self.var = 'deu bom'\n",
    "\n",
    "    def b(self):\n",
    "        print(self.var)\n",
    "    \n",
    "t = test()    \n",
    "t.a()\n",
    "t.b()"
   ]
  },
  {
   "cell_type": "code",
   "execution_count": 38,
   "id": "7eb156b9",
   "metadata": {},
   "outputs": [
    {
     "name": "stdout",
     "output_type": "stream",
     "text": [
      "fellipe lucas\n",
      "fellipe lucas\n"
     ]
    }
   ],
   "source": [
    "nome = 'FelliPE LUCas'\n",
    "\n",
    "def get_lower( x ):\n",
    "    return x.lower()\n",
    "\n",
    "get_lower_lambda = lambda x: x.lower()\n",
    "\n",
    "print( get_lower(nome) )\n",
    "print( get_lower_lambda(nome) )"
   ]
  },
  {
   "cell_type": "code",
   "execution_count": null,
   "id": "0833fcde",
   "metadata": {},
   "outputs": [],
   "source": [
    "# Estudo sobre dicionário \n",
    "\n"
   ]
  },
  {
   "cell_type": "code",
   "execution_count": 49,
   "id": "efdbd41b",
   "metadata": {
    "scrolled": true
   },
   "outputs": [
    {
     "name": "stdout",
     "output_type": "stream",
     "text": [
      "count: 5\n",
      "startswith: True\n",
      "endswih: True\n",
      "find: 13\n",
      "format: O meu email é FELLIPELLUCAS@GMAIL.COM!\n",
      "replace: FELLIPELLUCAS@HOTMAIL.COM\n",
      "split: ['FELLIPELLUCAS@GMAIL.COM']\n",
      "split: ['FELLIPELLUCAS', 'GMAIL.COM']\n"
     ]
    }
   ],
   "source": [
    "texto = 'FELLIPELLUCAS@GMAIL.COM'\n",
    "\n",
    "print('count: ' + str(texto.count('L')))\n",
    "print('startswith: ' + str(texto.startswith('FELLIPELLUCAS')))\n",
    "print('endswih: ' + str(texto.endswith('@GMAIL.COM')))\n",
    "print('find: ' + str(texto.find('@')))\n",
    "print('format: O meu email é {}!'.format(texto))\n",
    "print('replace: ' + texto.replace(\"GMAIL\", \"HOTMAIL\"))\n",
    "print('split: ' + str(texto.split()))\n",
    "print('split: ' + str(texto.split('@')))"
   ]
  },
  {
   "cell_type": "code",
   "execution_count": 35,
   "id": "c9d95af4",
   "metadata": {},
   "outputs": [
    {
     "name": "stdout",
     "output_type": "stream",
     "text": [
      "isalnum: True\n",
      "isalpha: True\n",
      "isnumeric: True\n"
     ]
    }
   ],
   "source": [
    "texto1 = 'Fellipe123'\n",
    "texto2 = 'Fellipe'\n",
    "texto3 = '123'\n",
    "\n",
    "print('isalnum: ' + str(texto1.isalnum())) # se o texto fosse 'FEL~LIPE' ou então 'FELLIPE#' o resultado seria False\n",
    "print('isalpha: ' + str(texto2.isalpha())) # nesse caso se o texto fosse 'Fellipe123' o resultado seria False, porque o texto teria numeros. \n",
    "print('isnumeric: ' + str(texto3.isnumeric())) # se o texto fosse 'Fellipe', o resultado seria False"
   ]
  },
  {
   "cell_type": "code",
   "execution_count": 37,
   "id": "c536e1e1",
   "metadata": {},
   "outputs": [
    {
     "name": "stdout",
     "output_type": "stream",
     "text": [
      "['', 'Prezados,', '', 'Venho aqui linformar que o meu novo email é fellipellucas@gmail.com', '', 'Att.:', 'Fellipe']\n"
     ]
    }
   ],
   "source": [
    "texto4 = '''\n",
    "Prezados,\n",
    "\n",
    "Venho aqui linformar que o meu novo email é fellipellucas@gmail.com\n",
    "\n",
    "Att.:\n",
    "Fellipe\n",
    "'''\n",
    "\n",
    "print(texto4.splitlines())"
   ]
  },
  {
   "cell_type": "code",
   "execution_count": 51,
   "id": "140c28ee",
   "metadata": {
    "scrolled": true
   },
   "outputs": [
    {
     "name": "stdout",
     "output_type": "stream",
     "text": [
      "capitalize: Fellipe lucas filgueira de oliveira\n",
      "title: Fellipe Lucas Filgueira De Oliveira\n",
      "upper: FELLIPE LUCAS FILGUEIRA DE OLIVEIRA\n",
      "casefold: fellipe lucas filgueira de oliveira\n"
     ]
    }
   ],
   "source": [
    "texto5 = 'FELLIPE LUCAS filgueira de oliveira'\n",
    "\n",
    "print('capitalize: ' + texto5.capitalize())\n",
    "print('title: ' + texto5.title())\n",
    "print('upper: ' + texto5.upper())\n",
    "print('casefold: ' + texto5.casefold())"
   ]
  },
  {
   "cell_type": "code",
   "execution_count": 30,
   "id": "0b2e82c0",
   "metadata": {
    "scrolled": true
   },
   "outputs": [
    {
     "data": {
      "text/plain": [
       "0.05"
      ]
     },
     "execution_count": 30,
     "metadata": {},
     "output_type": "execute_result"
    }
   ],
   "source": [
    "round( 0.0522225412, 2 )"
   ]
  },
  {
   "cell_type": "code",
   "execution_count": 32,
   "id": "f8ff14a5",
   "metadata": {},
   "outputs": [
    {
     "data": {
      "text/plain": [
       "[2, 4, 6]"
      ]
     },
     "execution_count": 32,
     "metadata": {},
     "output_type": "execute_result"
    }
   ],
   "source": [
    "x = [ 1, 2, 3, 4, 5, 6, 7, 8, 9 ]\n",
    "x[ 1 : 7 : 2 ]\n",
    "\n",
    "# x[ start : stop : step ]"
   ]
  }
 ],
 "metadata": {
  "kernelspec": {
   "display_name": "Python 3.10.1 64-bit",
   "language": "python",
   "name": "python3"
  },
  "language_info": {
   "codemirror_mode": {
    "name": "ipython",
    "version": 3
   },
   "file_extension": ".py",
   "mimetype": "text/x-python",
   "name": "python",
   "nbconvert_exporter": "python",
   "pygments_lexer": "ipython3",
   "version": "3.10.1"
  },
  "vscode": {
   "interpreter": {
    "hash": "4cdbc25c03071757fc69cfb92a55541a4c5526414e5b29f11951739707c2c4fe"
   }
  }
 },
 "nbformat": 4,
 "nbformat_minor": 5
}
