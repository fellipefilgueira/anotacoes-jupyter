{
 "cells": [
  {
   "cell_type": "markdown",
   "id": "c9287b83",
   "metadata": {},
   "source": [
    "## Biblioteca logging"
   ]
  },
  {
   "cell_type": "markdown",
   "id": "1a7d124c",
   "metadata": {},
   "source": [
    "### Principal"
   ]
  },
  {
   "cell_type": "code",
   "execution_count": 1,
   "id": "d844e85a",
   "metadata": {},
   "outputs": [],
   "source": [
    "import logging\n",
    "\n",
    "from logging import basicConfig, debug, info, warning, error, critical, FileHandler, StreamHandler\n",
    "\n",
    "basicConfig(filename= r'C:\\Users\\Fellipe\\Downloads\\meu_log.csv',\n",
    "            encoding= 'utf-8',\n",
    "            level=logging.DEBUG,\n",
    "            format= \"%(levelname)s;%(message)s;%(asctime)s\"\n",
    "            )\n",
    "\n",
    "debug('msg debug')\n",
    "\n",
    "info('msg info')\n",
    "\n",
    "warning('msg warning')\n",
    "\n",
    "error('msg error')\n",
    "\n",
    "critical('msg critical')"
   ]
  },
  {
   "cell_type": "markdown",
   "id": "f3e149b1",
   "metadata": {},
   "source": [
    "### Testes:"
   ]
  },
  {
   "cell_type": "code",
   "execution_count": 31,
   "id": "f11274ad",
   "metadata": {},
   "outputs": [],
   "source": [
    "from logging import basicConfig\n",
    "from logging import getLogger\n",
    "from logging import DEBUG\n",
    "from logging import debug, info, error, warning, critical\n",
    "from logging import FileHandler, StreamHandler"
   ]
  },
  {
   "cell_type": "code",
   "execution_count": 32,
   "id": "5047dae2",
   "metadata": {},
   "outputs": [
    {
     "name": "stderr",
     "output_type": "stream",
     "text": [
      "ERROR:root:mensagem de erro\n",
      "WARNING:root:Watch out!\n",
      "CRITICAL:root:Critical messages should be here\n"
     ]
    }
   ],
   "source": [
    "basicConfig(\n",
    "    level= DEBUG,\n",
    "    encoding= 'utf-8',\n",
    "    format= '%(levelname)s:%(asctime)s:%(message)s',\n",
    "    handlers=[\n",
    "            FileHandler('meus_logs.txt', 'w'),\n",
    "               StreamHandler()]\n",
    ")\n",
    "\n",
    "debug('mensagem de debug')\n",
    "info('mensagem informativa')\n",
    "error('mensagem de erro')\n",
    "warning('Watch out!')\n",
    "critical('Critical messages should be here')"
   ]
  },
  {
   "cell_type": "code",
   "execution_count": 19,
   "id": "bd38906d",
   "metadata": {},
   "outputs": [
    {
     "name": "stderr",
     "output_type": "stream",
     "text": [
      "WARNING:tcpserver:Protocol problem: connection reset\n"
     ]
    }
   ],
   "source": [
    "FORMAT = '%(asctime)s %(clientip)-15s %(user)-8s %(message)s'\n",
    "basicConfig(format=FORMAT)\n",
    "d = {'clientip': '192.168.0.1', 'user': 'fbloggs'}\n",
    "logger = getLogger('tcpserver')\n",
    "logger.warning('Protocol problem: %s', 'connection reset', extra=d)"
   ]
  },
  {
   "cell_type": "code",
   "execution_count": 30,
   "id": "a2089e99",
   "metadata": {},
   "outputs": [
    {
     "name": "stderr",
     "output_type": "stream",
     "text": [
      "ERROR:root:mensagem de erro\n"
     ]
    }
   ],
   "source": [
    "logger = getLogger('spam_application')\n",
    "logger.setLevel(DEBUG)\n",
    "# create file handler which logs even debug messages\n",
    "fh = FileHandler('spam.log', 'w')\n",
    "fh.setLevel(DEBUG)\n",
    "logger.addHandler(fh)\n",
    "\n",
    "error('mensagem de erro')"
   ]
  },
  {
   "cell_type": "code",
   "execution_count": 24,
   "id": "5ae93929",
   "metadata": {},
   "outputs": [],
   "source": [
    "basicConfig(filename='teste_logs.txt',\n",
    "                    filemode='a',\n",
    "                    format='%(asctime)s,%(msecs)d %(name)s %(levelname)s %(message)s',\n",
    "                    datefmt='%H:%M:%S',\n",
    "                    level=DEBUG)\n",
    "\n",
    "info(\"Running Urban Planning\")\n",
    "\n",
    "logger = getLogger('urbanGUI')"
   ]
  }
 ],
 "metadata": {
  "kernelspec": {
   "display_name": "Python 3 (ipykernel)",
   "language": "python",
   "name": "python3"
  },
  "language_info": {
   "codemirror_mode": {
    "name": "ipython",
    "version": 3
   },
   "file_extension": ".py",
   "mimetype": "text/x-python",
   "name": "python",
   "nbconvert_exporter": "python",
   "pygments_lexer": "ipython3",
   "version": "3.9.7"
  }
 },
 "nbformat": 4,
 "nbformat_minor": 5
}
