{
 "cells": [
  {
   "cell_type": "code",
   "execution_count": 2,
   "id": "c8f29019",
   "metadata": {},
   "outputs": [
    {
     "name": "stdout",
     "output_type": "stream",
     "text": [
      "C:\\Users\\Fellipe\\Jupyter\\anotacoes-jupyter\n"
     ]
    },
    {
     "data": {
      "text/plain": [
       "['Acompanhamento dos Serviços de Recuperação de Energia - Email n.xlsm',\n",
       " 'arquivo.xlsx',\n",
       " 'desktop.ini',\n",
       " 'Tabelas_email',\n",
       " 'teste_int.jpg',\n",
       " 'teste_int2.jpg',\n",
       " 'teste_int3.jpg',\n",
       " '~$Faturas - Dez 21 AT - Jan 22 BT.xlsx']"
      ]
     },
     "metadata": {},
     "output_type": "display_data"
    },
    {
     "data": {
      "text/plain": [
       "['arquivo.xlsx', '~$Faturas - Dez 21 AT - Jan 22 BT.xlsx']"
      ]
     },
     "metadata": {},
     "output_type": "display_data"
    },
    {
     "name": "stdout",
     "output_type": "stream",
     "text": [
      "arquivo\n",
      "~$Faturas - Dez 21 AT - Jan 22 BT\n"
     ]
    }
   ],
   "source": [
    "import os\n",
    "\n",
    "# local do diretório do arquivo python \n",
    "os.path.abspath('.')\n",
    "\n",
    "# local do diretório do diretório do arquivo python \n",
    "os.path.dirname( os.path.abspath('.') )\n",
    "\n",
    "# local do diretorio \n",
    "data_dir = \"C:/Users/Fellipe/Downloads\"\n",
    "\n",
    "# retorna todos os arquivos de um diretório\n",
    "display( os.listdir( data_dir ) ) \n",
    "\n",
    "# retorna os arquivos que terminam com '.xlsx'\n",
    "file_names = [i for i in os.listdir( data_dir ) if i.endswith('.xlsx')]\n",
    "display( file_names )\n",
    "\n",
    "# retirar o '.xlsx'\n",
    "for i in file_names: print( i.strip('.xlsx') ) "
   ]
  }
 ],
 "metadata": {
  "kernelspec": {
   "display_name": "Python 3 (ipykernel)",
   "language": "python",
   "name": "python3"
  },
  "language_info": {
   "codemirror_mode": {
    "name": "ipython",
    "version": 3
   },
   "file_extension": ".py",
   "mimetype": "text/x-python",
   "name": "python",
   "nbconvert_exporter": "python",
   "pygments_lexer": "ipython3",
   "version": "3.9.7"
  },
  "vscode": {
   "interpreter": {
    "hash": "4cdbc25c03071757fc69cfb92a55541a4c5526414e5b29f11951739707c2c4fe"
   }
  }
 },
 "nbformat": 4,
 "nbformat_minor": 5
}
